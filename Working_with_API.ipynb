{
  "nbformat": 4,
  "nbformat_minor": 0,
  "metadata": {
    "colab": {
      "name": "Working_with_API.ipynb",
      "provenance": [],
      "collapsed_sections": [],
      "authorship_tag": "ABX9TyPTSqAVu2G0Shw6peNmvc/n",
      "include_colab_link": true
    },
    "kernelspec": {
      "name": "python3",
      "display_name": "Python 3"
    },
    "language_info": {
      "name": "python"
    }
  },
  "cells": [
    {
      "cell_type": "markdown",
      "metadata": {
        "id": "view-in-github",
        "colab_type": "text"
      },
      "source": [
        "<a href=\"https://colab.research.google.com/github/rkmaccha/data_collection/blob/main/Working_with_API.ipynb\" target=\"_parent\"><img src=\"https://colab.research.google.com/assets/colab-badge.svg\" alt=\"Open In Colab\"/></a>"
      ]
    },
    {
      "cell_type": "code",
      "execution_count": 1,
      "metadata": {
        "id": "LVjP5GgujjOF"
      },
      "outputs": [],
      "source": [
        "import pandas as pd\n",
        "import requests"
      ]
    },
    {
      "cell_type": "markdown",
      "source": [
        "request : https://developers.themoviedb.org/3/movies/get-top-rated-movies   <br>\n",
        "api key : https://www.themoviedb.org/"
      ],
      "metadata": {
        "id": "K35nXjzd0rHr"
      }
    },
    {
      "cell_type": "code",
      "source": [
        "requests.get(\"https://api.themoviedb.org/3/movie/top_rated?api_key=8b5b96d3ca737f2fbd5d43e5a4296950&language=en-US&page=1\")"
      ],
      "metadata": {
        "colab": {
          "base_uri": "https://localhost:8080/"
        },
        "id": "zqwPMbV70G2W",
        "outputId": "a45a0a8c-5d25-4b1c-da99-720b1e6d6d98"
      },
      "execution_count": 2,
      "outputs": [
        {
          "output_type": "execute_result",
          "data": {
            "text/plain": [
              "<Response [200]>"
            ]
          },
          "metadata": {},
          "execution_count": 2
        }
      ]
    },
    {
      "cell_type": "code",
      "source": [
        "response= requests.get(\"https://api.themoviedb.org/3/movie/top_rated?api_key=8b5b96d3ca737f2fbd5d43e5a4296950&language=en-US&page=1\")"
      ],
      "metadata": {
        "id": "fpc2dNrs0OTD"
      },
      "execution_count": 3,
      "outputs": []
    },
    {
      "cell_type": "code",
      "source": [
        "data = pd.DataFrame(response.json()['results'])       "
      ],
      "metadata": {
        "id": "3UIA-iGz0QPh"
      },
      "execution_count": 5,
      "outputs": []
    },
    {
      "cell_type": "code",
      "source": [
        "data.head()"
      ],
      "metadata": {
        "colab": {
          "base_uri": "https://localhost:8080/",
          "height": 354
        },
        "id": "KHYzPmU70X5B",
        "outputId": "cc2bf707-ecee-4fd2-9d04-69799cfaf626"
      },
      "execution_count": 6,
      "outputs": [
        {
          "output_type": "execute_result",
          "data": {
            "text/plain": [
              "   adult                     backdrop_path        genre_ids     id  \\\n",
              "0  False  /iNh3BivHyg5sQRPP1KOkzguEX0H.jpg         [18, 80]    278   \n",
              "1  False  /90ez6ArvpO8bvpyIngBuwXOqJm5.jpg  [35, 18, 10749]  19404   \n",
              "2  False  /AbgEQO2mneCSOc8CSnOMa8pBS8I.jpg         [18, 80]    238   \n",
              "3  False  /loRmRzQXZeqG78TqZuyvSlEQfZb.jpg  [18, 36, 10752]    424   \n",
              "4  False  /poec6RqOKY9iSiIUmfyfPfiLtvB.jpg         [18, 80]    240   \n",
              "\n",
              "  original_language                original_title  \\\n",
              "0                en      The Shawshank Redemption   \n",
              "1                hi  दिलवाले दुल्हनिया ले जायेंगे   \n",
              "2                en                 The Godfather   \n",
              "3                en              Schindler's List   \n",
              "4                en        The Godfather: Part II   \n",
              "\n",
              "                                            overview  popularity  \\\n",
              "0  Framed in the 1940s for the double murder of h...      64.079   \n",
              "1  Raj is a rich, carefree, happy-go-lucky second...      17.514   \n",
              "2  Spanning the years 1945 to 1955, a chronicle o...      58.825   \n",
              "3  The true story of how businessman Oskar Schind...      33.699   \n",
              "4  In the continuing saga of the Corleone crime f...      44.197   \n",
              "\n",
              "                        poster_path release_date                        title  \\\n",
              "0  /q6y0Go1tsGEsmtFryDOJo3dEmqu.jpg   1994-09-23     The Shawshank Redemption   \n",
              "1  /2CAL2433ZeIihfX1Hb2139CX0pW.jpg   1995-10-20  Dilwale Dulhania Le Jayenge   \n",
              "2  /3bhkrj58Vtu7enYsRolD1fZdja1.jpg   1972-03-14                The Godfather   \n",
              "3  /sF1U4EUQS8YHUYjNl3pMGNIQyr0.jpg   1993-11-30             Schindler's List   \n",
              "4  /hek3koDUyRQk7FIhPXsa6mT2Zc3.jpg   1974-12-20       The Godfather: Part II   \n",
              "\n",
              "   video  vote_average  vote_count  \n",
              "0  False           8.7       21475  \n",
              "1  False           8.7        3659  \n",
              "2  False           8.7       16005  \n",
              "3  False           8.6       12789  \n",
              "4  False           8.6        9650  "
            ],
            "text/html": [
              "\n",
              "  <div id=\"df-a2851aa8-c028-4f35-b008-8752f47ff745\">\n",
              "    <div class=\"colab-df-container\">\n",
              "      <div>\n",
              "<style scoped>\n",
              "    .dataframe tbody tr th:only-of-type {\n",
              "        vertical-align: middle;\n",
              "    }\n",
              "\n",
              "    .dataframe tbody tr th {\n",
              "        vertical-align: top;\n",
              "    }\n",
              "\n",
              "    .dataframe thead th {\n",
              "        text-align: right;\n",
              "    }\n",
              "</style>\n",
              "<table border=\"1\" class=\"dataframe\">\n",
              "  <thead>\n",
              "    <tr style=\"text-align: right;\">\n",
              "      <th></th>\n",
              "      <th>adult</th>\n",
              "      <th>backdrop_path</th>\n",
              "      <th>genre_ids</th>\n",
              "      <th>id</th>\n",
              "      <th>original_language</th>\n",
              "      <th>original_title</th>\n",
              "      <th>overview</th>\n",
              "      <th>popularity</th>\n",
              "      <th>poster_path</th>\n",
              "      <th>release_date</th>\n",
              "      <th>title</th>\n",
              "      <th>video</th>\n",
              "      <th>vote_average</th>\n",
              "      <th>vote_count</th>\n",
              "    </tr>\n",
              "  </thead>\n",
              "  <tbody>\n",
              "    <tr>\n",
              "      <th>0</th>\n",
              "      <td>False</td>\n",
              "      <td>/iNh3BivHyg5sQRPP1KOkzguEX0H.jpg</td>\n",
              "      <td>[18, 80]</td>\n",
              "      <td>278</td>\n",
              "      <td>en</td>\n",
              "      <td>The Shawshank Redemption</td>\n",
              "      <td>Framed in the 1940s for the double murder of h...</td>\n",
              "      <td>64.079</td>\n",
              "      <td>/q6y0Go1tsGEsmtFryDOJo3dEmqu.jpg</td>\n",
              "      <td>1994-09-23</td>\n",
              "      <td>The Shawshank Redemption</td>\n",
              "      <td>False</td>\n",
              "      <td>8.7</td>\n",
              "      <td>21475</td>\n",
              "    </tr>\n",
              "    <tr>\n",
              "      <th>1</th>\n",
              "      <td>False</td>\n",
              "      <td>/90ez6ArvpO8bvpyIngBuwXOqJm5.jpg</td>\n",
              "      <td>[35, 18, 10749]</td>\n",
              "      <td>19404</td>\n",
              "      <td>hi</td>\n",
              "      <td>दिलवाले दुल्हनिया ले जायेंगे</td>\n",
              "      <td>Raj is a rich, carefree, happy-go-lucky second...</td>\n",
              "      <td>17.514</td>\n",
              "      <td>/2CAL2433ZeIihfX1Hb2139CX0pW.jpg</td>\n",
              "      <td>1995-10-20</td>\n",
              "      <td>Dilwale Dulhania Le Jayenge</td>\n",
              "      <td>False</td>\n",
              "      <td>8.7</td>\n",
              "      <td>3659</td>\n",
              "    </tr>\n",
              "    <tr>\n",
              "      <th>2</th>\n",
              "      <td>False</td>\n",
              "      <td>/AbgEQO2mneCSOc8CSnOMa8pBS8I.jpg</td>\n",
              "      <td>[18, 80]</td>\n",
              "      <td>238</td>\n",
              "      <td>en</td>\n",
              "      <td>The Godfather</td>\n",
              "      <td>Spanning the years 1945 to 1955, a chronicle o...</td>\n",
              "      <td>58.825</td>\n",
              "      <td>/3bhkrj58Vtu7enYsRolD1fZdja1.jpg</td>\n",
              "      <td>1972-03-14</td>\n",
              "      <td>The Godfather</td>\n",
              "      <td>False</td>\n",
              "      <td>8.7</td>\n",
              "      <td>16005</td>\n",
              "    </tr>\n",
              "    <tr>\n",
              "      <th>3</th>\n",
              "      <td>False</td>\n",
              "      <td>/loRmRzQXZeqG78TqZuyvSlEQfZb.jpg</td>\n",
              "      <td>[18, 36, 10752]</td>\n",
              "      <td>424</td>\n",
              "      <td>en</td>\n",
              "      <td>Schindler's List</td>\n",
              "      <td>The true story of how businessman Oskar Schind...</td>\n",
              "      <td>33.699</td>\n",
              "      <td>/sF1U4EUQS8YHUYjNl3pMGNIQyr0.jpg</td>\n",
              "      <td>1993-11-30</td>\n",
              "      <td>Schindler's List</td>\n",
              "      <td>False</td>\n",
              "      <td>8.6</td>\n",
              "      <td>12789</td>\n",
              "    </tr>\n",
              "    <tr>\n",
              "      <th>4</th>\n",
              "      <td>False</td>\n",
              "      <td>/poec6RqOKY9iSiIUmfyfPfiLtvB.jpg</td>\n",
              "      <td>[18, 80]</td>\n",
              "      <td>240</td>\n",
              "      <td>en</td>\n",
              "      <td>The Godfather: Part II</td>\n",
              "      <td>In the continuing saga of the Corleone crime f...</td>\n",
              "      <td>44.197</td>\n",
              "      <td>/hek3koDUyRQk7FIhPXsa6mT2Zc3.jpg</td>\n",
              "      <td>1974-12-20</td>\n",
              "      <td>The Godfather: Part II</td>\n",
              "      <td>False</td>\n",
              "      <td>8.6</td>\n",
              "      <td>9650</td>\n",
              "    </tr>\n",
              "  </tbody>\n",
              "</table>\n",
              "</div>\n",
              "      <button class=\"colab-df-convert\" onclick=\"convertToInteractive('df-a2851aa8-c028-4f35-b008-8752f47ff745')\"\n",
              "              title=\"Convert this dataframe to an interactive table.\"\n",
              "              style=\"display:none;\">\n",
              "        \n",
              "  <svg xmlns=\"http://www.w3.org/2000/svg\" height=\"24px\"viewBox=\"0 0 24 24\"\n",
              "       width=\"24px\">\n",
              "    <path d=\"M0 0h24v24H0V0z\" fill=\"none\"/>\n",
              "    <path d=\"M18.56 5.44l.94 2.06.94-2.06 2.06-.94-2.06-.94-.94-2.06-.94 2.06-2.06.94zm-11 1L8.5 8.5l.94-2.06 2.06-.94-2.06-.94L8.5 2.5l-.94 2.06-2.06.94zm10 10l.94 2.06.94-2.06 2.06-.94-2.06-.94-.94-2.06-.94 2.06-2.06.94z\"/><path d=\"M17.41 7.96l-1.37-1.37c-.4-.4-.92-.59-1.43-.59-.52 0-1.04.2-1.43.59L10.3 9.45l-7.72 7.72c-.78.78-.78 2.05 0 2.83L4 21.41c.39.39.9.59 1.41.59.51 0 1.02-.2 1.41-.59l7.78-7.78 2.81-2.81c.8-.78.8-2.07 0-2.86zM5.41 20L4 18.59l7.72-7.72 1.47 1.35L5.41 20z\"/>\n",
              "  </svg>\n",
              "      </button>\n",
              "      \n",
              "  <style>\n",
              "    .colab-df-container {\n",
              "      display:flex;\n",
              "      flex-wrap:wrap;\n",
              "      gap: 12px;\n",
              "    }\n",
              "\n",
              "    .colab-df-convert {\n",
              "      background-color: #E8F0FE;\n",
              "      border: none;\n",
              "      border-radius: 50%;\n",
              "      cursor: pointer;\n",
              "      display: none;\n",
              "      fill: #1967D2;\n",
              "      height: 32px;\n",
              "      padding: 0 0 0 0;\n",
              "      width: 32px;\n",
              "    }\n",
              "\n",
              "    .colab-df-convert:hover {\n",
              "      background-color: #E2EBFA;\n",
              "      box-shadow: 0px 1px 2px rgba(60, 64, 67, 0.3), 0px 1px 3px 1px rgba(60, 64, 67, 0.15);\n",
              "      fill: #174EA6;\n",
              "    }\n",
              "\n",
              "    [theme=dark] .colab-df-convert {\n",
              "      background-color: #3B4455;\n",
              "      fill: #D2E3FC;\n",
              "    }\n",
              "\n",
              "    [theme=dark] .colab-df-convert:hover {\n",
              "      background-color: #434B5C;\n",
              "      box-shadow: 0px 1px 3px 1px rgba(0, 0, 0, 0.15);\n",
              "      filter: drop-shadow(0px 1px 2px rgba(0, 0, 0, 0.3));\n",
              "      fill: #FFFFFF;\n",
              "    }\n",
              "  </style>\n",
              "\n",
              "      <script>\n",
              "        const buttonEl =\n",
              "          document.querySelector('#df-a2851aa8-c028-4f35-b008-8752f47ff745 button.colab-df-convert');\n",
              "        buttonEl.style.display =\n",
              "          google.colab.kernel.accessAllowed ? 'block' : 'none';\n",
              "\n",
              "        async function convertToInteractive(key) {\n",
              "          const element = document.querySelector('#df-a2851aa8-c028-4f35-b008-8752f47ff745');\n",
              "          const dataTable =\n",
              "            await google.colab.kernel.invokeFunction('convertToInteractive',\n",
              "                                                     [key], {});\n",
              "          if (!dataTable) return;\n",
              "\n",
              "          const docLinkHtml = 'Like what you see? Visit the ' +\n",
              "            '<a target=\"_blank\" href=https://colab.research.google.com/notebooks/data_table.ipynb>data table notebook</a>'\n",
              "            + ' to learn more about interactive tables.';\n",
              "          element.innerHTML = '';\n",
              "          dataTable['output_type'] = 'display_data';\n",
              "          await google.colab.output.renderOutput(dataTable, element);\n",
              "          const docLink = document.createElement('div');\n",
              "          docLink.innerHTML = docLinkHtml;\n",
              "          element.appendChild(docLink);\n",
              "        }\n",
              "      </script>\n",
              "    </div>\n",
              "  </div>\n",
              "  "
            ]
          },
          "metadata": {},
          "execution_count": 6
        }
      ]
    },
    {
      "cell_type": "code",
      "source": [
        ""
      ],
      "metadata": {
        "id": "CXjbhyn-0nEW"
      },
      "execution_count": null,
      "outputs": []
    }
  ]
}